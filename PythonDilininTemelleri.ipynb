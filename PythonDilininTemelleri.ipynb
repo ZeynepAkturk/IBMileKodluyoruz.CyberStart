{
 "cells": [
  {
   "cell_type": "markdown",
   "id": "df46cf25-d735-4e64-a3bc-d499b5ee0441",
   "metadata": {},
   "source": [
    "IBM ile Kodluyoruz: CyberStart-Python"
   ]
  },
  {
   "cell_type": "markdown",
   "id": "1bb835bc-63e9-44df-941b-897052bcee01",
   "metadata": {},
   "source": [
    "print() metodu\n",
    "\n",
    "Python dilinde çıktı almak için kullanılan bir metottur."
   ]
  },
  {
   "cell_type": "code",
   "execution_count": 2,
   "id": "f1101f3c-ec37-40c5-a5af-37e26db8d213",
   "metadata": {},
   "outputs": [
    {
     "name": "stdout",
     "output_type": "stream",
     "text": [
      "5\n"
     ]
    }
   ],
   "source": [
    "x=5\n",
    "print(5)"
   ]
  },
  {
   "cell_type": "markdown",
   "id": "4e8c6d76-3cda-472c-939b-3369ad0b47b9",
   "metadata": {},
   "source": [
    "Veri Tipleri\n",
    "\n",
    "Veri tipleri 2'ye ayrılır: \n",
    "1) Scalar: Daha alt parçalara ayrılamayan yapılar (sayılar vb.)\n",
    "2) Non-scalar: Daha alt parçalara ayrılabilen, içsel yapılarına erişilebilen yapılar\n",
    "\n",
    "Her objenin bir tipi vardır, program bu tiplere göre işlem yapar."
   ]
  },
  {
   "cell_type": "markdown",
   "id": "6a2c0de8-ed29-4c38-8637-997f3a1c3600",
   "metadata": {},
   "source": [
    "Integers (Tam Sayılar)"
   ]
  },
  {
   "cell_type": "code",
   "execution_count": null,
   "id": "73103dc8-8035-4ce2-a78d-5a13b007b94d",
   "metadata": {},
   "outputs": [],
   "source": [
    "1"
   ]
  },
  {
   "cell_type": "markdown",
   "id": "0aac4e10-ea74-45dd-a1c0-01403c23676c",
   "metadata": {},
   "source": [
    "Floats (Kesirli Sayılar)"
   ]
  },
  {
   "cell_type": "code",
   "execution_count": null,
   "id": "161aefee-8c86-4f14-a788-6a0ee604a400",
   "metadata": {},
   "outputs": [],
   "source": [
    "3.0"
   ]
  },
  {
   "cell_type": "markdown",
   "id": "c0ab654e-ef43-4202-a816-71839718bdca",
   "metadata": {},
   "source": [
    "Boolean (True/False)"
   ]
  },
  {
   "cell_type": "code",
   "execution_count": 2,
   "id": "4b79c632-68e9-44ab-bb31-33f6014ba5d5",
   "metadata": {},
   "outputs": [
    {
     "data": {
      "text/plain": [
       "False"
      ]
     },
     "execution_count": 2,
     "metadata": {},
     "output_type": "execute_result"
    }
   ],
   "source": [
    "2<1"
   ]
  },
  {
   "cell_type": "markdown",
   "id": "55c20e60-3cdf-4e6b-afe4-b6ab9fbaf690",
   "metadata": {},
   "source": [
    "type() metodu\n",
    "\n",
    "İçine girilen verinin tipini döndürür."
   ]
  },
  {
   "cell_type": "code",
   "execution_count": 3,
   "id": "9fd597d3-5f15-4cc5-95d7-54f2ab9cf87c",
   "metadata": {},
   "outputs": [
    {
     "data": {
      "text/plain": [
       "float"
      ]
     },
     "execution_count": 3,
     "metadata": {},
     "output_type": "execute_result"
    }
   ],
   "source": [
    "type(1.2)"
   ]
  },
  {
   "cell_type": "markdown",
   "id": "b9ae3750-05c8-47b8-b365-8d42285921bc",
   "metadata": {},
   "source": [
    "Type Casting (Tip Dönüştürmesi)\n",
    "\n",
    "Bir değerinin tipini değiştirmeye yarar."
   ]
  },
  {
   "cell_type": "code",
   "execution_count": 4,
   "id": "dbae8934-938e-43f4-9fe4-61b14912e793",
   "metadata": {},
   "outputs": [
    {
     "data": {
      "text/plain": [
       "2"
      ]
     },
     "execution_count": 4,
     "metadata": {},
     "output_type": "execute_result"
    }
   ],
   "source": [
    "int(2.4)"
   ]
  },
  {
   "cell_type": "code",
   "execution_count": 5,
   "id": "18c82b89-7bf7-42ac-9fa2-ec255a5802ad",
   "metadata": {},
   "outputs": [
    {
     "data": {
      "text/plain": [
       "2"
      ]
     },
     "execution_count": 5,
     "metadata": {},
     "output_type": "execute_result"
    }
   ],
   "source": [
    "int(2.9) #float bir değeri integer'a çevirme \n",
    "#int() metodu yovarlama yapmaz, tam kısmı alır."
   ]
  },
  {
   "cell_type": "markdown",
   "id": "c194c43b-450e-4c03-b6f0-67b592d48eca",
   "metadata": {},
   "source": [
    "Variable Assigment (Değişken Atama)\n",
    "\n",
    "Variable ismi seçildikten sonra bu ismin değerinin ne olacağı belirlenmeli.Bu aşamadan sonra Python bu ismi her gördüğünde verilen değeri çağıracaktır."
   ]
  },
  {
   "cell_type": "code",
   "execution_count": 1,
   "id": "0c6521a5-5787-4cb8-861d-801ad174901f",
   "metadata": {},
   "outputs": [],
   "source": [
    "sayi=2 #değişken tanımlama ve değer atama"
   ]
  },
  {
   "cell_type": "code",
   "execution_count": 2,
   "id": "acab180b-bdcc-45ff-b762-fd4a874c1cd5",
   "metadata": {},
   "outputs": [
    {
     "data": {
      "text/plain": [
       "10"
      ]
     },
     "execution_count": 2,
     "metadata": {},
     "output_type": "execute_result"
    }
   ],
   "source": [
    "sayi*5"
   ]
  },
  {
   "cell_type": "code",
   "execution_count": 11,
   "id": "99099d23-8436-4eb4-82cb-c78d1cd813ed",
   "metadata": {},
   "outputs": [
    {
     "name": "stdout",
     "output_type": "stream",
     "text": [
      "a'nın degeri:  5 b'nin degeri:  7\n"
     ]
    }
   ],
   "source": [
    "a=2\n",
    "b=a + 5\n",
    "a=a + 3\n",
    "print(\"a'nın degeri: \", a,\"b'nin degeri: \",b) "
   ]
  },
  {
   "cell_type": "markdown",
   "id": "5cc638fc-3e3c-48cd-a921-9c27c17cc743",
   "metadata": {},
   "source": [
    "Expressions (İfadeler)\n",
    "\n",
    "Objeler ve operatörlerin birleşimi ifadeleri oluşturur."
   ]
  },
  {
   "cell_type": "code",
   "execution_count": 20,
   "id": "5408f417-0092-4eb8-a461-ec4c9d063e27",
   "metadata": {},
   "outputs": [
    {
     "name": "stdout",
     "output_type": "stream",
     "text": [
      "2\n",
      "1\n",
      "27\n",
      "0.5\n"
     ]
    }
   ],
   "source": [
    "# + operatörü : Eğer objelerden biri bile float ise toplama işleminde expression tipi float olur.\n",
    "\n",
    "#type(2+2)\n",
    "type(2.1+2)\n",
    "\n",
    "\n",
    "# - * operatörü : Eğer objelerden biri bile float ise çıkarma ve çarpma işleminde expression tipi float olur.\n",
    "\n",
    "type(2.1*1)\n",
    "\n",
    "\n",
    "# / operatörü : Objelerin tipi ne olursa olsun bölme işleminde expression tipi float olur.\n",
    "\n",
    "type(4/2)\n",
    "\n",
    "\n",
    "# // operatörü : Objelerden biri bile float ise expression tipi float olur ancak tam kısmı döndürür.\n",
    "\n",
    "print(5//2)\n",
    "\n",
    "\n",
    "# % operatörü : Mod almaya yarar. Kalan float ise cevap float olur yoksa tipi integerdır.\n",
    "\n",
    "print(5%2)\n",
    "\n",
    "\n",
    "# ** operatörü : Üs alma işlemidir.\n",
    "\n",
    "print(3**3)\n",
    "print(2**-1)\n"
   ]
  },
  {
   "cell_type": "markdown",
   "id": "34eff7b5-f811-4032-8915-94a5dae052aa",
   "metadata": {},
   "source": [
    "STRINGLER\n",
    "\n",
    "Stringler, karakterlerden oluşan bir dizidir.\n",
    "Karakterler ise a,b,c,d,1,12,£,boşluk(space) gibi elemanlardır.\n",
    "\n",
    "Stringler, non-scalar ve immutable bir veri tipidir.\n",
    "Immutable : Elemanlarının değerleri değiştirilemez.\n"
   ]
  },
  {
   "cell_type": "code",
   "execution_count": 21,
   "id": "425e1196-484c-4ce1-b38d-025b32beadf9",
   "metadata": {},
   "outputs": [
    {
     "name": "stdout",
     "output_type": "stream",
     "text": [
      "a\n"
     ]
    }
   ],
   "source": [
    "stringDeger=\"a\"\n",
    "print(stringDeger)"
   ]
  },
  {
   "cell_type": "markdown",
   "id": "988d7f76-f5f0-44ab-9ff8-b27cc07a8c35",
   "metadata": {},
   "source": [
    "Escape Sequences"
   ]
  },
  {
   "cell_type": "code",
   "execution_count": 29,
   "id": "d30581ca-b420-4e09-b389-75de72868193",
   "metadata": {},
   "outputs": [
    {
     "name": "stdout",
     "output_type": "stream",
     "text": [
      " \\ \n"
     ]
    }
   ],
   "source": [
    "\"Bana \\\"Bugün ne yapıyorsun?\\\" dedi. \"\n",
    "print(\" \\\\ \")"
   ]
  },
  {
   "cell_type": "markdown",
   "id": "f099b408-bb00-456e-b1ed-97bad8c71449",
   "metadata": {},
   "source": [
    "Stringlerde Değer Atama"
   ]
  },
  {
   "cell_type": "code",
   "execution_count": 30,
   "id": "a5ed8087-681f-4d4c-a3c8-748e9c567834",
   "metadata": {},
   "outputs": [
    {
     "name": "stdout",
     "output_type": "stream",
     "text": [
      "Merhaba\n"
     ]
    }
   ],
   "source": [
    "merhaba=\"Merhaba\"\n",
    "print(merhaba)"
   ]
  },
  {
   "cell_type": "markdown",
   "id": "960545b0-6c63-4c47-8d50-ad632083f285",
   "metadata": {},
   "source": [
    "Stringlerde Concatenation ( Birleştirme )"
   ]
  },
  {
   "cell_type": "code",
   "execution_count": 33,
   "id": "51afeabe-9507-48ae-9fc3-70faa029a7cd",
   "metadata": {},
   "outputs": [
    {
     "data": {
      "text/plain": [
       "'52'"
      ]
     },
     "execution_count": 33,
     "metadata": {},
     "output_type": "execute_result"
    }
   ],
   "source": [
    "\"5\"+\"2\" #toplama işlemi yapmaz, stringleri birleştirir.\n",
    "#\"5 \"+\"2\" veya \"5\"+\" \"+\"2\" şeklinde araya boşluk karakteri konulabilir."
   ]
  },
  {
   "cell_type": "markdown",
   "id": "401d4c1f-4190-4415-9b3d-c990ac4f9886",
   "metadata": {},
   "source": [
    "Successive Concatenation (Ardışık Birleştirme)\n",
    "\n",
    "* operatörü sayı objeleri için çarpım olarak tanımlanmışken stringler için ard arda birleştirme işlemi yapar."
   ]
  },
  {
   "cell_type": "code",
   "execution_count": 36,
   "id": "82113f31-ec5d-43ea-b3d6-0cc1f1d57493",
   "metadata": {},
   "outputs": [
    {
     "data": {
      "text/plain": [
       "'heyheyheyhey'"
      ]
     },
     "execution_count": 36,
     "metadata": {},
     "output_type": "execute_result"
    }
   ],
   "source": [
    "4*\"hey\" # \"hey\" + \"hey\" + \"hey\" + \"hey\"\n",
    "#type(4*\"hey\")"
   ]
  },
  {
   "cell_type": "code",
   "execution_count": null,
   "id": "3cb8608a-1893-419d-b718-d6b7bc6977e5",
   "metadata": {},
   "outputs": [],
   "source": [
    "len() metodu\n",
    "\n",
    "Var olan string değerinin kaç karakterden oluşturduğunu döndürür.(Boşluk(space) karakteri de sayılıyor.)"
   ]
  },
  {
   "cell_type": "code",
   "execution_count": 39,
   "id": "5618b090-b879-4338-a2d7-e30a71fbbd32",
   "metadata": {},
   "outputs": [
    {
     "data": {
      "text/plain": [
       "5"
      ]
     },
     "execution_count": 39,
     "metadata": {},
     "output_type": "execute_result"
    }
   ],
   "source": [
    "len(\"2 2 2\")"
   ]
  },
  {
   "cell_type": "markdown",
   "id": "c0a656fd-d4fb-43b4-973a-fc14c10945ae",
   "metadata": {},
   "source": [
    "Indexing ( Elemanlara Erişme )\n",
    "\n",
    "Stringler karakterler dizisi olduğu için, bu dizideki spesifik konumdaki elemanlara erişebilmek için \"Indexing\" işleminden yararlanılır."
   ]
  },
  {
   "cell_type": "code",
   "execution_count": 5,
   "id": "342d3fda-a7ee-4ac9-bf2b-361d1c36cf74",
   "metadata": {},
   "outputs": [
    {
     "data": {
      "text/plain": [
       "'p'"
      ]
     },
     "execution_count": 5,
     "metadata": {},
     "output_type": "execute_result"
    }
   ],
   "source": [
    "isim=\"Zeynep\" \n",
    "isim[1] #index değerleri 0'dan başlar.\n",
    "#son elemana erişmek istiyorsak\n",
    "isim[len(isim)-1]\n",
    "#Pythonda son elemana erişebilmek için index değeri olarak -1 girilir.\n",
    "isim[-1]\n",
    "#isim[-2]\n",
    "#isim[6] bu satır hata verir çünkü geçerli bir indeks değeri değil."
   ]
  },
  {
   "cell_type": "code",
   "execution_count": 9,
   "id": "568c5048-48e2-4dd1-b5a3-5f084bf5648e",
   "metadata": {},
   "outputs": [],
   "source": [
    "#Stringlerin elemanlarının değeri sonradan değiştirilemez.\n",
    "#isim[0]=\"M\""
   ]
  },
  {
   "cell_type": "markdown",
   "id": "569b1f2b-6321-4d57-bc16-e634c36fc966",
   "metadata": {},
   "source": [
    "Slicing (Dilimleme)\n"
   ]
  },
  {
   "cell_type": "markdown",
   "id": "4d031a48-ef85-4ab7-954d-0acf8890e115",
   "metadata": {},
   "source": [
    "Indexing ile sonuç olarak sadece eleman elde edilirken birkaç tanesini arka arkaya, bir öbek olarak elde edebilmek için slicing işlemi uygulanır.\n"
   ]
  },
  {
   "cell_type": "code",
   "execution_count": 10,
   "id": "2272c5fb-fa6e-4b5b-84ce-7bec98268af3",
   "metadata": {},
   "outputs": [
    {
     "data": {
      "text/plain": [
       "'Zeynep'"
      ]
     },
     "execution_count": 10,
     "metadata": {},
     "output_type": "execute_result"
    }
   ],
   "source": [
    "isim=\"Zeynep\" \n",
    "isim[0:2] #başlangıç indeksi dahil alınırken son indeks dahil edilmez.\n",
    "isim[:3] #başlangıç değeri de belirtilmeyebilir.\n",
    "isim[1:4]\n",
    "isim[1:] #son değer belirtilmezse sonuna kadar alır.\n",
    "isim[:7] #büyük bir index verilirse de hata almaz."
   ]
  },
  {
   "cell_type": "code",
   "execution_count": 15,
   "id": "530af96d-bd3c-43b4-b7bf-d1583b27c2b4",
   "metadata": {},
   "outputs": [
    {
     "data": {
      "text/plain": [
       "'pne'"
      ]
     },
     "execution_count": 15,
     "metadata": {},
     "output_type": "execute_result"
    }
   ],
   "source": [
    "isim[0:10:3] #0 dan başla, 10'a kadar iki iki atlayarak git.\n",
    "#Adım - değer de alabilir.\n",
    "isim[10:0:-2]"
   ]
  },
  {
   "cell_type": "markdown",
   "id": "865c49b3-77c2-46b7-92bc-bbf44acd8b29",
   "metadata": {},
   "source": [
    "Casting in Strings"
   ]
  },
  {
   "cell_type": "code",
   "execution_count": 19,
   "id": "69239ade-ea32-4a81-a35f-677333f83b2e",
   "metadata": {},
   "outputs": [
    {
     "data": {
      "text/plain": [
       "5.2"
      ]
     },
     "execution_count": 19,
     "metadata": {},
     "output_type": "execute_result"
    }
   ],
   "source": [
    "sayisal_ifade=\"5.2\"\n",
    "#int(sayisal_ifade) #stringin içindeki ifade float olduğu için direkt integera çeviremez.\n",
    "float(sayisal_ifade) "
   ]
  },
  {
   "cell_type": "markdown",
   "id": "a7a06dae-5c58-4cc7-b7ef-1f64e883e4ac",
   "metadata": {},
   "source": [
    "Input\n",
    "Kullanıcıdan değer almak istenildiğinde kullanılır."
   ]
  },
  {
   "cell_type": "code",
   "execution_count": 26,
   "id": "b9cd6dc7-b9d1-4bd1-8db6-a8f6afcaf32a",
   "metadata": {},
   "outputs": [
    {
     "name": "stdin",
     "output_type": "stream",
     "text": [
      "Bir sayı girin 10\n",
      "Bir sayı girin 10\n"
     ]
    },
    {
     "data": {
      "text/plain": [
       "20"
      ]
     },
     "execution_count": 26,
     "metadata": {},
     "output_type": "execute_result"
    }
   ],
   "source": [
    "input_degeri= input(\"Bir sayı girin\")\n",
    "#input sonucunda elde edilen değer stringtir.\n",
    "type(input_degeri)\n",
    "x= int(input(\"Bir sayı girin\"))\n",
    "x+10"
   ]
  },
  {
   "cell_type": "markdown",
   "id": "8632cf0b-58a9-4a7e-bf15-8f6cb007ca39",
   "metadata": {},
   "source": [
    "Comments (Yorumlar)\n",
    "Tek Satıra Yorum Eklemek #\n",
    "Birden Çok Satırı Kapsayan Yorum Yazmak   \"\"\"  \"\"\""
   ]
  },
  {
   "cell_type": "code",
   "execution_count": 28,
   "id": "64a3a364-2198-47d1-aa6a-e4392886b486",
   "metadata": {},
   "outputs": [
    {
     "data": {
      "text/plain": [
       "' birden fazla\\nsatırı içeren \\nyorum\\n'"
      ]
     },
     "execution_count": 28,
     "metadata": {},
     "output_type": "execute_result"
    }
   ],
   "source": [
    "#yorum satırı\n",
    "\"\"\" birden fazla\n",
    "satırı içeren \n",
    "yorum\n",
    "\"\"\""
   ]
  },
  {
   "cell_type": "markdown",
   "id": "a1afac39-2bab-47ce-b4ac-3b3d31da1e39",
   "metadata": {},
   "source": [
    "Nümerik Veri Tiplerinde Karşılaştırma\n",
    "\n",
    "==  : Eşit olup olmadığını sorgular.\n",
    "!=  : Eşit olmadığını sorgular.\n",
    ">   : Büyük olup olmadığını sorgular.\n",
    "<   : Küçük olup olmadığını sorgular."
   ]
  },
  {
   "cell_type": "code",
   "execution_count": 30,
   "id": "49a74e5e-8926-4f69-bc6b-b598b9147f14",
   "metadata": {},
   "outputs": [
    {
     "data": {
      "text/plain": [
       "False"
      ]
     },
     "execution_count": 30,
     "metadata": {},
     "output_type": "execute_result"
    }
   ],
   "source": [
    "a=20\n",
    "b=10\n",
    "a>b\n",
    "a==b"
   ]
  },
  {
   "cell_type": "markdown",
   "id": "f1cac4a0-dc14-4887-9462-35198376cdfb",
   "metadata": {},
   "source": [
    "Stringlerde Karşılaştırma"
   ]
  },
  {
   "cell_type": "code",
   "execution_count": 31,
   "id": "8b4f4abe-0a73-4802-9a54-09f042d289e3",
   "metadata": {},
   "outputs": [
    {
     "data": {
      "text/plain": [
       "False"
      ]
     },
     "execution_count": 31,
     "metadata": {},
     "output_type": "execute_result"
    }
   ],
   "source": [
    "\"Elma\"==\"elma\""
   ]
  },
  {
   "cell_type": "code",
   "execution_count": 33,
   "id": "6b75ecce-84dc-438c-b655-b0eb10b85edc",
   "metadata": {},
   "outputs": [
    {
     "data": {
      "text/plain": [
       "True"
      ]
     },
     "execution_count": 33,
     "metadata": {},
     "output_type": "execute_result"
    }
   ],
   "source": [
    "\"a\"<\"b\" #Alfabetik sıralamasına bakar."
   ]
  },
  {
   "cell_type": "code",
   "execution_count": 34,
   "id": "f21870cc-ce22-45c6-87c1-3d304a395bea",
   "metadata": {},
   "outputs": [
    {
     "data": {
      "text/plain": [
       "True"
      ]
     },
     "execution_count": 34,
     "metadata": {},
     "output_type": "execute_result"
    }
   ],
   "source": [
    "\"Zeynep\">\"Zeynel\""
   ]
  },
  {
   "cell_type": "markdown",
   "id": "e83e6bfb-c6f7-4af5-82c6-a9c511076d13",
   "metadata": {},
   "source": [
    "Mantıksal Operatörler ( Logical Operators) : not, or, and"
   ]
  },
  {
   "cell_type": "code",
   "execution_count": 41,
   "id": "6b013d5a-fbf8-4187-be77-8ff09359125b",
   "metadata": {},
   "outputs": [
    {
     "data": {
      "text/plain": [
       "True"
      ]
     },
     "execution_count": 41,
     "metadata": {},
     "output_type": "execute_result"
    }
   ],
   "source": [
    "#not operatörü : Verilen değeri tersine döndürür. false -> true, true-> false\n",
    "not True # false değerine döndürür.\n",
    "not 5<6 #false döndürür.\n",
    "#and operatörü : Verilen iki değer de true olursa sonuç true olur.\n",
    "5<6 and 6<7  #true döndürür.\n",
    "9==9 and 6==9 #false döndürür.\n",
    "#or operatörü: Verilen iki değerden herhangi bir true olursa sonuç true olur.\n",
    "9==0 or 7==7 #true döndürür.\n"
   ]
  },
  {
   "cell_type": "code",
   "execution_count": null,
   "id": "1aee5bfe-89c7-455c-82fb-4d49a732fd04",
   "metadata": {},
   "outputs": [],
   "source": [
    "Short Circuit"
   ]
  },
  {
   "cell_type": "code",
   "execution_count": 42,
   "id": "0173f786-4659-4326-804e-95fa3f145967",
   "metadata": {},
   "outputs": [
    {
     "data": {
      "text/plain": [
       "False"
      ]
     },
     "execution_count": 42,
     "metadata": {},
     "output_type": "execute_result"
    }
   ],
   "source": [
    "(5<3) and print(\"hey\") #sol taraf false olduğu için sağ tarafa bakmaz."
   ]
  },
  {
   "cell_type": "markdown",
   "id": "d575bda0-dd25-41cf-bbde-1a3ebb38d5c3",
   "metadata": {},
   "source": [
    "Not Circuit and yerine &, or yerine |"
   ]
  },
  {
   "cell_type": "code",
   "execution_count": 43,
   "id": "0be47174-2462-44ba-ba26-e27cdc933f81",
   "metadata": {},
   "outputs": [
    {
     "ename": "SyntaxError",
     "evalue": "unterminated string literal (detected at line 1) (313737599.py, line 1)",
     "output_type": "error",
     "traceback": [
      "\u001b[1;36m  Cell \u001b[1;32mIn[43], line 1\u001b[1;36m\u001b[0m\n\u001b[1;33m    (5<3) & print(\"hey)\u001b[0m\n\u001b[1;37m                  ^\u001b[0m\n\u001b[1;31mSyntaxError\u001b[0m\u001b[1;31m:\u001b[0m unterminated string literal (detected at line 1)\n"
     ]
    }
   ],
   "source": [
    "(5<3) & print(\"hey)"
   ]
  },
  {
   "cell_type": "markdown",
   "id": "143d0e38-8fd6-4d22-b1c8-efc0545602d4",
   "metadata": {},
   "source": [
    "If-Else-Elif\n",
    "\n",
    "if(test1)\n",
    "    kod1\n",
    "elif(test2)\n",
    "    kod2\n",
    "elif(test3)\n",
    "    kod3\n",
    "else\n",
    "    kod4"
   ]
  },
  {
   "cell_type": "code",
   "execution_count": 53,
   "id": "4dfc9f3e-6179-4ef8-9142-a225a45120fb",
   "metadata": {},
   "outputs": [
    {
     "name": "stdin",
     "output_type": "stream",
     "text": [
      "Bir sayı girin. 10\n"
     ]
    },
    {
     "name": "stdout",
     "output_type": "stream",
     "text": [
      "Sayınız çift sayıdır.\n",
      "Sayının 0 ile bölümünden kalan\n",
      "Programınız sona ulaştı.\n"
     ]
    }
   ],
   "source": [
    "x=int(input(\"Bir sayı girin.\"))\n",
    "\n",
    "if x%2==0:\n",
    "    print(\"Sayınız çift sayıdır.\")\n",
    "    print(\"Sayının 0 ile bölümünden kalan\")\n",
    "elif x==10:\n",
    "    print(\"Sayınız 10'a eşittir.\")\n",
    "else:\n",
    "    print(\"Sayınız tek sayıdır.\")\n",
    "\n",
    "print(\"Programınız sona ulaştı.\")"
   ]
  },
  {
   "cell_type": "markdown",
   "id": "132706ea-0574-4fe1-b062-f3dac8a94b66",
   "metadata": {},
   "source": [
    "Nested If"
   ]
  },
  {
   "cell_type": "code",
   "execution_count": 56,
   "id": "49cdc0dc-d1ce-454e-af77-04de731d56a8",
   "metadata": {},
   "outputs": [
    {
     "name": "stdin",
     "output_type": "stream",
     "text": [
      "Bir sayı giriniz 6\n"
     ]
    },
    {
     "name": "stdout",
     "output_type": "stream",
     "text": [
      "Sayı hem 2 ye hem 3 e bölünür.\n"
     ]
    }
   ],
   "source": [
    "x= int(input(\"Bir sayı giriniz\"))\n",
    "if x%3==0:\n",
    "    if x%2==0:\n",
    "        print(\"Sayı hem 2 ye hem 3 e bölünür.\")\n",
    "    else:\n",
    "        print(\"Sayı 2 ye bölünemez.\")\n",
    "else:\n",
    "    print(\"Sayı 3'e bölünmüyor.\")\n",
    "    "
   ]
  },
  {
   "cell_type": "markdown",
   "id": "9bb4073f-0ed4-453d-b935-67f8550e17ff",
   "metadata": {},
   "source": [
    "Ternary Conditionals : If-Else mantığının tek satırda kullanılmasını sağlar."
   ]
  },
  {
   "cell_type": "code",
   "execution_count": 59,
   "id": "9f720516-92d7-4ead-bc22-90f975959bea",
   "metadata": {},
   "outputs": [
    {
     "name": "stdin",
     "output_type": "stream",
     "text": [
      "x'in değeri 2 olsun mu? y/n n\n"
     ]
    },
    {
     "data": {
      "text/plain": [
       "0"
      ]
     },
     "execution_count": 59,
     "metadata": {},
     "output_type": "execute_result"
    }
   ],
   "source": [
    "cevap=input(\"x'in değeri 2 olsun mu? y/n\")\n",
    "x=2 if cevap==\"y\" else 0 #eğer cevap y ise x'i 2 ye eşitle eğer cevap y değilse 0 a eşitle.\n",
    "x"
   ]
  },
  {
   "cell_type": "markdown",
   "id": "cd75c246-deb4-44da-83eb-005cc8862f45",
   "metadata": {},
   "source": [
    "Döngüler (Loops)\n",
    "\n",
    "While döngüsü : Döngü içinde belirtilen ifade doğru olduğu sürece çalışmaya devam edecek.\n",
    "For döngüsü : for değişken in <obje>"
   ]
  },
  {
   "cell_type": "code",
   "execution_count": 65,
   "id": "a6720c67-d40c-47cf-91e4-4382f8416fe8",
   "metadata": {},
   "outputs": [
    {
     "name": "stdout",
     "output_type": "stream",
     "text": [
      "Sayı negatif, lütfen pozitif bir sayı giriniz.\n"
     ]
    },
    {
     "name": "stdin",
     "output_type": "stream",
     "text": [
      "Bir sayı girin: -1\n"
     ]
    },
    {
     "name": "stdout",
     "output_type": "stream",
     "text": [
      "Sayı negatif, lütfen pozitif bir sayı giriniz.\n"
     ]
    },
    {
     "name": "stdin",
     "output_type": "stream",
     "text": [
      "Bir sayı girin: -1\n"
     ]
    },
    {
     "name": "stdout",
     "output_type": "stream",
     "text": [
      "Sayı negatif, lütfen pozitif bir sayı giriniz.\n"
     ]
    },
    {
     "name": "stdin",
     "output_type": "stream",
     "text": [
      "Bir sayı girin: -2\n"
     ]
    },
    {
     "name": "stdout",
     "output_type": "stream",
     "text": [
      "Sayı negatif, lütfen pozitif bir sayı giriniz.\n"
     ]
    },
    {
     "name": "stdin",
     "output_type": "stream",
     "text": [
      "Bir sayı girin: 2\n"
     ]
    },
    {
     "name": "stdout",
     "output_type": "stream",
     "text": [
      "Sayınız pozitif ve  2\n"
     ]
    }
   ],
   "source": [
    "# x= int(input(\"Bir sayı giriniz:\"))\n",
    "while x<0:\n",
    "    print (\"Sayı negatif, lütfen pozitif bir sayı giriniz.\")\n",
    "    x=int(input(\"Bir sayı girin:\"))\n",
    "print(\"Sayınız pozitif ve \", x)"
   ]
  },
  {
   "cell_type": "code",
   "execution_count": 66,
   "id": "4e91acb8-1265-4652-bc51-878d4ba24b91",
   "metadata": {},
   "outputs": [
    {
     "name": "stdout",
     "output_type": "stream",
     "text": [
      "0\n",
      "1\n",
      "2\n"
     ]
    }
   ],
   "source": [
    "x=0\n",
    "while x<3:\n",
    "    print(x)\n",
    "    x=x+1"
   ]
  },
  {
   "cell_type": "code",
   "execution_count": 67,
   "id": "f4904b60-6abc-4cdb-8c10-94ef6c1c3e0e",
   "metadata": {},
   "outputs": [
    {
     "name": "stdout",
     "output_type": "stream",
     "text": [
      "h\n",
      "e\n",
      "y\n"
     ]
    }
   ],
   "source": [
    "for c in \"hey\":\n",
    "    print(c)"
   ]
  },
  {
   "cell_type": "code",
   "execution_count": 68,
   "id": "6480060c-93a5-48e5-8268-70384de92280",
   "metadata": {},
   "outputs": [
    {
     "name": "stdout",
     "output_type": "stream",
     "text": [
      "5050\n"
     ]
    }
   ],
   "source": [
    "toplam=0\n",
    "for x in range(101): #range(): Verilen sayıya kadar olan sayıları verir.\n",
    "    toplam+=x\n",
    "print(toplam)"
   ]
  },
  {
   "cell_type": "code",
   "execution_count": 69,
   "id": "e0a21641-5744-4e70-a269-0b9a20a54e1c",
   "metadata": {},
   "outputs": [
    {
     "name": "stdout",
     "output_type": "stream",
     "text": [
      "3125\n"
     ]
    }
   ],
   "source": [
    "toplam=1\n",
    "for _ in range(5): # _ ifadesi değişkenin kullanılmayacağını ifade eder.\n",
    "    toplam*=5\n",
    "print(toplam)"
   ]
  },
  {
   "cell_type": "markdown",
   "id": "d20a939b-ffda-4b69-8126-055dd46b02a5",
   "metadata": {},
   "source": [
    "for ve while\n",
    "while yapısımda kaç kere iterasyon yapılacağını bilmiyoruz.\n",
    "for yapısında eleman sayısı kadar iterasyon vardır ancak test mekanizması yoktur."
   ]
  },
  {
   "cell_type": "markdown",
   "id": "5d83170f-85ff-4d25-b489-6cffc1619d51",
   "metadata": {},
   "source": [
    "break ve continue\n",
    "break: Belirli bir şart sağlandığı zaman döngüden çıkmayı sağlar.\n",
    "continue: Belirtilen adımı atlayarak döngüye devam eder."
   ]
  },
  {
   "cell_type": "code",
   "execution_count": 70,
   "id": "018dd2c2-32e5-4a4f-9b3b-0f562be45a74",
   "metadata": {},
   "outputs": [
    {
     "name": "stdout",
     "output_type": "stream",
     "text": [
      "0\n",
      "1\n",
      "2\n"
     ]
    }
   ],
   "source": [
    "for i in range (10):\n",
    "    if i==3:\n",
    "        break\n",
    "    print(i)"
   ]
  },
  {
   "cell_type": "code",
   "execution_count": 74,
   "id": "0c2a4620-4d8b-4682-be37-424116dafa6b",
   "metadata": {},
   "outputs": [
    {
     "name": "stdout",
     "output_type": "stream",
     "text": [
      "0\n",
      "1\n",
      "2\n",
      "4\n",
      "5\n",
      "6\n",
      "7\n",
      "8\n",
      "9\n"
     ]
    }
   ],
   "source": [
    "for i in range(10):\n",
    "    if i==3:\n",
    "        continue\n",
    "    print(i)"
   ]
  },
  {
   "cell_type": "code",
   "execution_count": 75,
   "id": "66422e3d-22f3-4078-a915-deff82988bfe",
   "metadata": {},
   "outputs": [
    {
     "name": "stdout",
     "output_type": "stream",
     "text": [
      "3\n",
      "3\n",
      "4\n",
      "4\n"
     ]
    }
   ],
   "source": [
    "i=2\n",
    "for x in range(i):\n",
    "    i+=1\n",
    "    print(i)\n",
    "    print(i)"
   ]
  }
 ],
 "metadata": {
  "kernelspec": {
   "display_name": "Python 3 (ipykernel)",
   "language": "python",
   "name": "python3"
  },
  "language_info": {
   "codemirror_mode": {
    "name": "ipython",
    "version": 3
   },
   "file_extension": ".py",
   "mimetype": "text/x-python",
   "name": "python",
   "nbconvert_exporter": "python",
   "pygments_lexer": "ipython3",
   "version": "3.12.5"
  }
 },
 "nbformat": 4,
 "nbformat_minor": 5
}
